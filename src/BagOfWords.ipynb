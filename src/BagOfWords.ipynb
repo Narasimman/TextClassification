{
 "cells": [
  {
   "cell_type": "code",
   "execution_count": 1,
   "metadata": {
    "collapsed": false
   },
   "outputs": [],
   "source": [
    "import numpy as np\n",
    "import pandas as pd\n",
    "from sklearn.linear_model import LogisticRegression\n",
    "from sklearn.naive_bayes import MultinomialNB\n",
    "from sklearn.neighbors import KNeighborsClassifier\n",
    "from sklearn import metrics\n",
    "from sklearn import cross_validation\n",
    "from sklearn.cross_validation import train_test_split\n",
    "from sklearn.feature_extraction.text import CountVectorizer\n",
    "from sklearn.feature_extraction.text import TfidfVectorizer\n",
    "\n",
    "#import matplotlib.pylab as plt\n",
    "#%matplotlib inline\n",
    "#plt.rcParams['figure.figsize'] = 10, 8\n",
    "\n",
    "np.random.seed(36)"
   ]
  },
  {
   "cell_type": "markdown",
   "metadata": {},
   "source": [
    "## Creates the train feature file"
   ]
  },
  {
   "cell_type": "code",
   "execution_count": 2,
   "metadata": {
    "collapsed": false
   },
   "outputs": [],
   "source": [
    "with open(\"data/train.txt\",'r') as f1:\n",
    "    with open(\"features_BoW_train.csv\", \"w\") as f2:\n",
    "        f2.truncate()\n",
    "        f2.write(\"Text\")\n",
    "        f2.write(\",\")\n",
    "        f2.write(\"Topic\")\n",
    "        f2.write(\"\\n\")\n",
    "        for line in f1:\n",
    "            topic, text = line.split(\"\\t\")\n",
    "            f2.write(text.replace(\"\\n\",\"\"))\n",
    "            f2.write(\",\")\n",
    "            f2.write(topic)\n",
    "            f2.write(\"\\n\")  "
   ]
  },
  {
   "cell_type": "markdown",
   "metadata": {},
   "source": [
    "## Creates the text feature file"
   ]
  },
  {
   "cell_type": "code",
   "execution_count": 3,
   "metadata": {
    "collapsed": true
   },
   "outputs": [],
   "source": [
    "with open(\"data/test.txt\",'r') as f1:\n",
    "    with open(\"features_BoW_test.csv\", \"w\") as f2:\n",
    "        f2.truncate()\n",
    "        f2.write(\"Text\")\n",
    "        f2.write(\",\")\n",
    "        f2.write(\"Topic\")\n",
    "        f2.write(\"\\n\")\n",
    "        for line in f1:\n",
    "            topic, text = line.split(\"\\t\")\n",
    "            f2.write(text.replace(\"\\n\",\"\"))\n",
    "            f2.write(\",\")\n",
    "            f2.write(topic)\n",
    "            f2.write(\"\\n\")"
   ]
  },
  {
   "cell_type": "code",
   "execution_count": 4,
   "metadata": {
    "collapsed": false
   },
   "outputs": [],
   "source": [
    "traindata = pd.read_csv(\"features_BoW_train.csv\")\n",
    "testdata = pd.read_csv(\"features_BoW_test.csv\")"
   ]
  },
  {
   "cell_type": "code",
   "execution_count": 5,
   "metadata": {
    "collapsed": false
   },
   "outputs": [
    {
     "data": {
      "text/html": [
       "<div>\n",
       "<table border=\"1\" class=\"dataframe\">\n",
       "  <thead>\n",
       "    <tr style=\"text-align: right;\">\n",
       "      <th></th>\n",
       "      <th>Text</th>\n",
       "      <th>Topic</th>\n",
       "    </tr>\n",
       "  </thead>\n",
       "  <tbody>\n",
       "    <tr>\n",
       "      <th>0</th>\n",
       "      <td>asian exporters fear damage japan rift mountin...</td>\n",
       "      <td>trade</td>\n",
       "    </tr>\n",
       "    <tr>\n",
       "      <th>1</th>\n",
       "      <td>china daily vermin eat pct grain stocks survey...</td>\n",
       "      <td>grain</td>\n",
       "    </tr>\n",
       "    <tr>\n",
       "      <th>2</th>\n",
       "      <td>australian foreign ship ban ends nsw ports hit...</td>\n",
       "      <td>ship</td>\n",
       "    </tr>\n",
       "    <tr>\n",
       "      <th>3</th>\n",
       "      <td>sumitomo bank aims quick recovery merger sumit...</td>\n",
       "      <td>acq</td>\n",
       "    </tr>\n",
       "    <tr>\n",
       "      <th>4</th>\n",
       "      <td>amatil proposes two for bonus share issue amat...</td>\n",
       "      <td>earn</td>\n",
       "    </tr>\n",
       "  </tbody>\n",
       "</table>\n",
       "</div>"
      ],
      "text/plain": [
       "                                                Text  Topic\n",
       "0  asian exporters fear damage japan rift mountin...  trade\n",
       "1  china daily vermin eat pct grain stocks survey...  grain\n",
       "2  australian foreign ship ban ends nsw ports hit...   ship\n",
       "3  sumitomo bank aims quick recovery merger sumit...    acq\n",
       "4  amatil proposes two for bonus share issue amat...   earn"
      ]
     },
     "execution_count": 5,
     "metadata": {},
     "output_type": "execute_result"
    }
   ],
   "source": [
    "testdata.head(5)"
   ]
  },
  {
   "cell_type": "code",
   "execution_count": 6,
   "metadata": {
    "collapsed": false
   },
   "outputs": [],
   "source": [
    "X_train = traindata['Text']\n",
    "Y_train = traindata['Topic']"
   ]
  },
  {
   "cell_type": "code",
   "execution_count": 7,
   "metadata": {
    "collapsed": false
   },
   "outputs": [],
   "source": [
    "X_test = testdata['Text']\n",
    "Y_test = testdata['Topic']"
   ]
  },
  {
   "cell_type": "code",
   "execution_count": 8,
   "metadata": {
    "collapsed": true
   },
   "outputs": [],
   "source": [
    "# Fit a counter\n",
    "tfidf_vectorizer = TfidfVectorizer(sublinear_tf=True, max_df=0.5,\n",
    "                                 stop_words='english')\n",
    "tfidf_vectorizer.fit(X_train)\n",
    "\n",
    "# Transform to a counter\n",
    "X_train_tfidf = tfidf_vectorizer.transform(X_train)\n",
    "X_test_tfidf = tfidf_vectorizer.transform(X_test)"
   ]
  },
  {
   "cell_type": "code",
   "execution_count": 9,
   "metadata": {
    "collapsed": false
   },
   "outputs": [
    {
     "data": {
      "text/plain": [
       "MultinomialNB(alpha=0.01, class_prior=None, fit_prior=True)"
      ]
     },
     "execution_count": 9,
     "metadata": {},
     "output_type": "execute_result"
    }
   ],
   "source": [
    "model = MultinomialNB(alpha=0.01)\n",
    "model.fit(X_train_tfidf, Y_train)"
   ]
  },
  {
   "cell_type": "code",
   "execution_count": 10,
   "metadata": {
    "collapsed": false
   },
   "outputs": [
    {
     "name": "stdout",
     "output_type": "stream",
     "text": [
      "F1 Accuracy = 0.9458\n",
      "Accuracy = 0.9461\n",
      "Classification Report: \n",
      "             precision    recall  f1-score   support\n",
      "\n",
      "        acq       0.95      0.95      0.95       696\n",
      "      crude       0.91      0.97      0.94       121\n",
      "       earn       0.97      0.97      0.97      1083\n",
      "      grain       1.00      0.90      0.95        10\n",
      "   interest       0.92      0.75      0.83        81\n",
      "   money-fx       0.84      0.87      0.85        87\n",
      "       ship       0.92      0.64      0.75        36\n",
      "      trade       0.76      0.97      0.85        75\n",
      "\n",
      "avg / total       0.95      0.95      0.95      2189\n",
      "\n"
     ]
    }
   ],
   "source": [
    "pred = model.predict(X_test_tfidf)\n",
    "print \"F1 Accuracy = %.4f\" %metrics.f1_score(Y_test, pred, average='weighted')\n",
    "print \"Accuracy = %.4f\" %metrics.accuracy_score(Y_test, pred)\n",
    "print \"Classification Report: \\n\" + metrics.classification_report(Y_test, pred)"
   ]
  },
  {
   "cell_type": "code",
   "execution_count": null,
   "metadata": {
    "collapsed": false
   },
   "outputs": [],
   "source": [
    "lr_model = LogisticRegression(multi_class='multinomial',solver='newton-cg')\n",
    "lr_model.fit(X_train_tfidf, Y_train)"
   ]
  },
  {
   "cell_type": "code",
   "execution_count": null,
   "metadata": {
    "collapsed": false
   },
   "outputs": [],
   "source": [
    "pred = lr_model.predict(X_test_tfidf)\n",
    "print \"F1 Accuracy = %.4f\" %metrics.f1_score(Y_test, pred, average='weighted')\n",
    "print \"Accuracy = %.4f\" %metrics.accuracy_score(Y_test, pred)\n",
    "print \"Classification Report: \\n\" + metrics.classification_report(Y_test, pred)"
   ]
  },
  {
   "cell_type": "code",
   "execution_count": null,
   "metadata": {
    "collapsed": false
   },
   "outputs": [],
   "source": [
    "knn_model = KNeighborsClassifier()\n",
    "knn_model.fit(X_train_tfidf, Y_train)"
   ]
  },
  {
   "cell_type": "code",
   "execution_count": null,
   "metadata": {
    "collapsed": false
   },
   "outputs": [],
   "source": [
    "pred = knn_model.predict(X_test_tfidf)\n",
    "print \"F1 Accuracy = %.4f\" %metrics.f1_score(Y_test, pred, average='weighted')\n",
    "print \"Accuracy = %.4f\" %metrics.accuracy_score(Y_test, pred)\n",
    "print \"Classification Report: \\n\" + metrics.classification_report(Y_test, pred)"
   ]
  },
  {
   "cell_type": "code",
   "execution_count": null,
   "metadata": {
    "collapsed": false
   },
   "outputs": [],
   "source": [
    "lda_model = LDA()\n",
    "lda_model.fit(X_train_tfidf, Y_train)"
   ]
  },
  {
   "cell_type": "code",
   "execution_count": null,
   "metadata": {
    "collapsed": true
   },
   "outputs": [],
   "source": []
  }
 ],
 "metadata": {
  "kernelspec": {
   "display_name": "Python 2",
   "language": "python",
   "name": "python2"
  },
  "language_info": {
   "codemirror_mode": {
    "name": "ipython",
    "version": 2
   },
   "file_extension": ".py",
   "mimetype": "text/x-python",
   "name": "python",
   "nbconvert_exporter": "python",
   "pygments_lexer": "ipython2",
   "version": "2.7.10"
  }
 },
 "nbformat": 4,
 "nbformat_minor": 0
}
